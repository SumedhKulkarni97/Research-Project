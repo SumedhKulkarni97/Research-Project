{
 "cells": [
  {
   "cell_type": "code",
   "execution_count": 2,
   "id": "f6c99067-3706-48aa-9e0e-c9bb588648e5",
   "metadata": {},
   "outputs": [],
   "source": [
    "from sklearn.datasets import fetch_openml\n",
    "import numpy as np"
   ]
  },
  {
   "cell_type": "code",
   "execution_count": 4,
   "id": "206a2b20-34ef-4170-a442-4fbf2b605b44",
   "metadata": {},
   "outputs": [
    {
     "name": "stdout",
     "output_type": "stream",
     "text": [
      "X_train shape: (60000, 784)\n",
      "y_train shape: (60000,)\n",
      "X_test shape: (10000, 784)\n",
      "y_test shape: (10000,)\n"
     ]
    }
   ],
   "source": [
    "mnist = fetch_openml('mnist_784', version=1, as_frame=False, parser='auto')\n",
    "X, y = mnist.data, mnist.target\n",
    "\n",
    "\n",
    "X_train, X_test = X[:60000], X[60000:]\n",
    "y_train, y_test = y[:60000], y[60000:]\n",
    "\n",
    "print(f\"X_train shape: {X_train.shape}\")\n",
    "print(f\"y_train shape: {y_train.shape}\")\n",
    "print(f\"X_test shape: {X_test.shape}\")\n",
    "print(f\"y_test shape: {y_test.shape}\")"
   ]
  },
  {
   "cell_type": "code",
   "execution_count": 18,
   "id": "3f7282b7-f52f-424f-aed3-a38e58c8ef45",
   "metadata": {},
   "outputs": [
    {
     "name": "stdout",
     "output_type": "stream",
     "text": [
      "Original X shape: (60000, 784)\n",
      "Filtered X (1s and 7s) train shape: (13007, 784)\n",
      "Original y shape: (60000,)\n",
      "Filtered y (1s and 7s) train shape: (13007,)\n",
      "Original X shape: (10000, 784)\n",
      "Filtered X (1s and 7s) test shape: (2163, 784)\n",
      "Original y shape: (10000,)\n",
      "Filtered y (1s and 7s) test shape: (2163,)\n",
      "\n",
      "Unique labels in new dataset: ['1' '7']\n"
     ]
    }
   ],
   "source": [
    "mask_1 = (y_train == '1')\n",
    "mask_7 = (y_train == '7')\n",
    "\n",
    "# Combine the masks using a logical OR (|)\n",
    "combined_mask = mask_1 | mask_7\n",
    "\n",
    "mask_1t = (y_test == '1')\n",
    "mask_7t = (y_test == '7')\n",
    "\n",
    "# Combine the masks using a logical OR (|)\n",
    "combined_mask_t = mask_1t | mask_7t\n",
    "\n",
    "# Apply the combined mask to the full dataset (X and y)\n",
    "X_train_required = X_train[combined_mask]\n",
    "y_train_required = y_train[combined_mask]\n",
    "X_test_required = X_test[combined_mask_t]\n",
    "y_test_required = y_test[combined_mask_t]\n",
    "\n",
    "print(f\"Original X shape: {X_train.shape}\")\n",
    "print(f\"Filtered X (1s and 7s) train shape: {X_train_required.shape}\")\n",
    "print(f\"Original y shape: {y_train.shape}\")\n",
    "print(f\"Filtered y (1s and 7s) train shape: {y_train_required.shape}\")\n",
    "print(f\"Original X shape: {X_test.shape}\")\n",
    "print(f\"Filtered X (1s and 7s) test shape: {X_test_required.shape}\")\n",
    "print(f\"Original y shape: {y_test.shape}\")\n",
    "print(f\"Filtered y (1s and 7s) test shape: {y_test_required.shape}\")\n",
    "print(f\"\\nUnique labels in new dataset: {np.unique(y_train_required)}\")"
   ]
  },
  {
   "cell_type": "code",
   "execution_count": 20,
   "id": "3f9b7149-4415-46f9-a3df-dfbc6ae1a742",
   "metadata": {},
   "outputs": [],
   "source": [
    "import matplotlib.pyplot as plt"
   ]
  },
  {
   "cell_type": "code",
   "execution_count": 22,
   "id": "cef164b6-0737-461e-96fd-de010998e2a9",
   "metadata": {},
   "outputs": [],
   "source": [
    "num_train_images = X_train_required.shape[0]\n",
    "num_samples = 20\n",
    "random_indices = np.random.choice(num_train_images, num_samples, replace=False)"
   ]
  },
  {
   "cell_type": "code",
   "execution_count": 24,
   "id": "a93ae552-0402-40a2-854b-ec508c332b5c",
   "metadata": {},
   "outputs": [
    {
     "data": {
      "image/png": "[encoded data removed]",
      "text/plain": [
       "<Figure size 1000x800 with 20 Axes>"
      ]
     },
     "metadata": {},
     "output_type": "display_data"
    }
   ],
   "source": [
    "fig, axes = plt.subplots(4, 5, figsize=(10, 8))\n",
    "\n",
    "for i, ax in enumerate(axes.ravel()):\n",
    "    idx = random_indices[i]\n",
    "    image = X_train_required[idx]\n",
    "    label = y_train_required[idx]\n",
    "\n",
    "    image_reshaped = image.reshape(28, 28)\n",
    "\n",
    "    ax.imshow(image_reshaped, cmap='gray')\n",
    "    ax.set_title(f\"Label: {label}\")\n",
    "    ax.axis('off') # Hide the x/y axes\n",
    "\n",
    "plt.tight_layout()\n",
    "plt.show()"
   ]
  },
  {
   "cell_type": "code",
   "execution_count": 26,
   "id": "eae599e9-6baf-43ef-ae0e-e6a842341433",
   "metadata": {},
   "outputs": [
    {
     "name": "stdout",
     "output_type": "stream",
     "text": [
      "Data scaling complete.\n",
      "Original X_train mean: 24.11\n",
      "Scaled X_train mean: 0.00\n",
      "Scaled X_train std dev: 0.91\n"
     ]
    }
   ],
   "source": [
    "from sklearn.preprocessing import StandardScaler\n",
    "\n",
    "# Create a scaler\n",
    "scaler = StandardScaler()\n",
    "\n",
    "# Fit the scaler ONLY on the training data\n",
    "X_train_scaled = scaler.fit_transform(X_train_required)\n",
    "\n",
    "# Transform the test data using the *same* scaler\n",
    "X_test_scaled = scaler.transform(X_test_required)\n",
    "\n",
    "print(\"Data scaling complete.\")\n",
    "print(f\"Original X_train mean: {np.mean(X_train_required):.2f}\")\n",
    "print(f\"Scaled X_train mean: {np.mean(X_train_scaled):.2f}\")\n",
    "print(f\"Scaled X_train std dev: {np.std(X_train_scaled):.2f}\")"
   ]
  },
  {
   "cell_type": "code",
   "execution_count": 28,
   "id": "18216fa6-d1ff-4919-ba9f-dec21aa39138",
   "metadata": {},
   "outputs": [],
   "source": [
    "from sklearn.linear_model import LogisticRegression\n",
    "from sklearn.neighbors import KNeighborsClassifier\n",
    "from sklearn.ensemble import RandomForestClassifier\n",
    "from sklearn.svm import SVC\n",
    "from sklearn.metrics import accuracy_score\n",
    "import time"
   ]
  },
  {
   "cell_type": "code",
   "execution_count": 30,
   "id": "7638a23b-e0c4-47a1-b439-0157b1785f8c",
   "metadata": {},
   "outputs": [],
   "source": [
    "models = {\n",
    "    'Logistic Regression': LogisticRegression(max_iter=1000),\n",
    "    'K-Nearest Neighbors': KNeighborsClassifier(),\n",
    "    'Random Forest': RandomForestClassifier(random_state=42),\n",
    "    'Support Vector Machine': SVC(random_state=42)\n",
    "}"
   ]
  },
  {
   "cell_type": "code",
   "execution_count": 32,
   "id": "8d3b3fd6-769e-4f4f-966e-573fd5170a46",
   "metadata": {},
   "outputs": [
    {
     "name": "stdout",
     "output_type": "stream",
     "text": [
      "--- Training Logistic Regression ---\n",
      "Accuracy: 99.35%\n",
      "Time taken: 0.32 seconds\n",
      "\n",
      "--- Training K-Nearest Neighbors ---\n",
      "Accuracy: 98.89%\n",
      "Time taken: 0.42 seconds\n",
      "\n",
      "--- Training Random Forest ---\n",
      "Accuracy: 99.68%\n",
      "Time taken: 2.41 seconds\n",
      "\n",
      "--- Training Support Vector Machine ---\n",
      "Accuracy: 98.94%\n",
      "Time taken: 7.45 seconds\n",
      "\n"
     ]
    }
   ],
   "source": [
    "results = {}\n",
    "\n",
    "for name, model in models.items():\n",
    "    print(f\"--- Training {name} ---\")\n",
    "    start_time = time.time()\n",
    "    \n",
    "    # Use the correct dataset (scaled or unscaled)\n",
    "    if name == 'Random Forest':\n",
    "        # Random Forest doesn't need scaled data\n",
    "        model.fit(X_train_required, y_train_required)\n",
    "        y_pred = model.predict(X_test_required)\n",
    "    else:\n",
    "        # Other models use scaled data\n",
    "        model.fit(X_train_scaled, y_train_required)\n",
    "        y_pred = model.predict(X_test_scaled)\n",
    "        \n",
    "    end_time = time.time()\n",
    "    \n",
    "    # Calculate accuracy\n",
    "    acc = accuracy_score(y_test_required, y_pred)\n",
    "    results[name] = acc\n",
    "    \n",
    "    print(f\"Accuracy: {acc * 100:.2f}%\")\n",
    "    print(f\"Time taken: {end_time - start_time:.2f} seconds\\n\")"
   ]
  },
  {
   "cell_type": "code",
   "execution_count": 34,
   "id": "d2beb45f-536e-4fbd-80c0-818602a97e98",
   "metadata": {},
   "outputs": [
    {
     "name": "stdout",
     "output_type": "stream",
     "text": [
      "--- Final Model Comparison ---\n",
      "Logistic Regression: 99.35%\n",
      "K-Nearest Neighbors: 98.89%\n",
      "Random Forest: 99.68%\n",
      "Support Vector Machine: 98.94%\n"
     ]
    }
   ],
   "source": [
    "print(\"--- Final Model Comparison ---\")\n",
    "for name, acc in results.items():\n",
    "    print(f\"{name}: {acc * 100:.2f}%\")"
   ]
  },
  {
   "cell_type": "code",
   "execution_count": 36,
   "id": "309c1b57-c17a-468b-8d5c-517012eeca72",
   "metadata": {},
   "outputs": [
    {
     "name": "stdout",
     "output_type": "stream",
     "text": [
      "--- Classification Report for Random Forest ---\n",
      "Test Accuracy: 99.68%\n",
      "\n",
      "              precision    recall  f1-score   support\n",
      "\n",
      "     Digit 1       1.00      1.00      1.00      1135\n",
      "     Digit 7       1.00      1.00      1.00      1028\n",
      "\n",
      "    accuracy                           1.00      2163\n",
      "   macro avg       1.00      1.00      1.00      2163\n",
      "weighted avg       1.00      1.00      1.00      2163\n",
      "\n"
     ]
    }
   ],
   "source": [
    "from sklearn.metrics import classification_report\n",
    "\n",
    "rf_model = models['Random Forest']\n",
    "\n",
    "y_pred_rf = rf_model.predict(X_test_required)\n",
    "\n",
    "print(\"--- Classification Report for Random Forest ---\")\n",
    "print(f\"Test Accuracy: {accuracy_score(y_test_required, y_pred_rf) * 100:.2f}%\\n\")\n",
    "\n",
    "# This report shows precision, recall, and f1-score\n",
    "report = classification_report(y_test_required, y_pred_rf, target_names=['Digit 1', 'Digit 7'])\n",
    "print(report)"
   ]
  },
  {
   "cell_type": "code",
   "execution_count": 38,
   "id": "8f853729-979c-41c0-892c-5b3aedc45020",
   "metadata": {},
   "outputs": [
    {
     "name": "stdout",
     "output_type": "stream",
     "text": [
      "Total misclassified images: 7\n"
     ]
    }
   ],
   "source": [
    "misclassified_indices = np.where(y_pred_rf != y_test_required)[0]\n",
    "\n",
    "X_wrong = X_test_required[misclassified_indices]\n",
    "y_true_wrong = y_test_required[misclassified_indices]\n",
    "y_pred_wrong = y_pred_rf[misclassified_indices]\n",
    "\n",
    "num_wrong = len(X_wrong)\n",
    "print(f\"Total misclassified images: {num_wrong}\")"
   ]
  },
  {
   "cell_type": "code",
   "execution_count": 40,
   "id": "5ffe930f-c207-4a27-a79d-ddec395b45ff",
   "metadata": {},
   "outputs": [
    {
     "data": {
      "image/png": "[encoded data removed]",
      "text/plain": [
       "<Figure size 1000x500 with 10 Axes>"
      ]
     },
     "metadata": {},
     "output_type": "display_data"
    }
   ],
   "source": [
    "num_to_show = min(num_wrong, 20)\n",
    "if num_to_show == 0:\n",
    "    print(\"No images\")\n",
    "else:\n",
    "    rows = (num_to_show + 4) // 5\n",
    "    cols = 5\n",
    "    fig, axes = plt.subplots(rows, cols, figsize=(10, 2.5 * rows))\n",
    "    \n",
    "    axes = axes.ravel()\n",
    "    \n",
    "    for i in range(num_to_show):\n",
    "        image = X_wrong[i].reshape(28, 28)\n",
    "        true_label = y_true_wrong[i]\n",
    "        pred_label = y_pred_wrong[i]\n",
    "        \n",
    "        axes[i].imshow(image, cmap='gray')\n",
    "        axes[i].set_title(f\"True: {true_label}\\nPred: {pred_label}\", color='red')\n",
    "        axes[i].axis('off')\n",
    "        \n",
    "    for i in range(num_to_show, len(axes)):\n",
    "        axes[i].axis('off')\n",
    "\n",
    "    plt.tight_layout()\n",
    "    plt.show()"
   ]
  },
  {
   "cell_type": "code",
   "execution_count": 46,
   "id": "29e420c3-5775-4183-8175-01af3335d7ae",
   "metadata": {},
   "outputs": [
    {
     "name": "stdout",
     "output_type": "stream",
     "text": [
      "Model class order: ['1' '7']\n"
     ]
    },
    {
     "data": {
      "image/png": "[encoded data removed]",
      "text/plain": [
       "<Figure size 1200x600 with 10 Axes>"
      ]
     },
     "metadata": {},
     "output_type": "display_data"
    }
   ],
   "source": [
    "rf_model = models['Random Forest']\n",
    "\n",
    "# This is crucial. 'classes_' will tell us if column 0 is '1' or '7'\n",
    "class_labels = rf_model.classes_\n",
    "print(f\"Model class order: {class_labels}\")\n",
    "\n",
    "# Find which column index corresponds to '1' and '7'\n",
    "label_1_index = np.where(class_labels == '1')[0][0]\n",
    "label_7_index = np.where(class_labels == '7')[0][0]\n",
    "\n",
    "all_probabilities = rf_model.predict_proba(X_test_required)\n",
    "\n",
    "if 'misclassified_indices' not in locals():\n",
    "    print(\"Error.\")\n",
    "else:\n",
    "    wrong_probabilities = all_probabilities[misclassified_indices]\n",
    "\n",
    "    num_wrong = len(misclassified_indices)\n",
    "    num_to_show = min(num_wrong, 20)\n",
    "    \n",
    "    if num_to_show == 0:\n",
    "        print(\"No images were misclassified\")\n",
    "    else:\n",
    "        rows = (num_to_show + 4) // 5\n",
    "        cols = 5\n",
    "        fig, axes = plt.subplots(rows, cols, figsize=(12, 3 * rows))\n",
    "        axes = axes.ravel()\n",
    "        \n",
    "        for i in range(num_to_show):\n",
    "            # Get the image, labels, and probabilities\n",
    "            image = X_wrong[i].reshape(28, 28)\n",
    "            true_label = y_true_wrong[i]\n",
    "            pred_label = y_pred_wrong[i]\n",
    "            \n",
    "            # Get the specific probabilities for this image\n",
    "            prob_for_1 = wrong_probabilities[i, label_1_index]\n",
    "            prob_for_7 = wrong_probabilities[i, label_7_index]\n",
    "            \n",
    "            title = (\n",
    "                f\"True: {true_label}, Pred: {pred_label}\\n\"\n",
    "                f\"Votes: (1: {prob_for_1*100:.1f}%, 7: {prob_for_7*100:.1f}%)\"\n",
    "            )\n",
    "            \n",
    "            axes[i].imshow(image, cmap='gray')\n",
    "            axes[i].set_title(title, color='red', fontsize=10)\n",
    "            axes[i].axis('off')\n",
    "\n",
    "        for i in range(num_to_show, len(axes)):\n",
    "            axes[i].axis('off')\n",
    "\n",
    "        plt.tight_layout()\n",
    "        plt.show()"
   ]
  },
  {
   "cell_type": "code",
   "execution_count": null,
   "id": "2544a7d5-5403-48b0-a868-4b83c0f28a8b",
   "metadata": {},
   "outputs": [],
   "source": []
  }
 ],
 "metadata": {
  "kernelspec": {
   "display_name": "Python 3 (ipykernel)",
   "language": "python",
   "name": "python3"
  },
  "language_info": {
   "codemirror_mode": {
    "name": "ipython",
    "version": 3
   },
   "file_extension": ".py",
   "mimetype": "text/x-python",
   "name": "python",
   "nbconvert_exporter": "python",
   "pygments_lexer": "ipython3",
   "version": "3.12.7"
  }
 },
 "nbformat": 4,
 "nbformat_minor": 5
}
